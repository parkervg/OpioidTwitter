{
 "cells": [
  {
   "cell_type": "markdown",
   "metadata": {},
   "source": [
    "## GET PACKAGES"
   ]
  },
  {
   "cell_type": "code",
   "execution_count": 1,
   "metadata": {},
   "outputs": [],
   "source": [
    "import pandas as pd\n",
    "import numpy as np\n",
    "\n",
    "%matplotlib inline\n",
    "\n",
    "import matplotlib.pyplot as plt\n",
    "import seaborn as sns\n",
    "\n",
    "from IPython.display import Image\n",
    "\n",
    "import re\n",
    "import nltk\n",
    "from nltk.corpus import stopwords\n",
    "from nltk.stem import PorterStemmer\n",
    "from string import punctuation\n",
    "\n",
    "from sklearn.cluster import MiniBatchKMeans\n",
    "from sklearn.feature_extraction.text import TfidfVectorizer\n",
    "from sklearn.decomposition import PCA\n",
    "from sklearn.decomposition import TruncatedSVD\n",
    "from sklearn.preprocessing import normalize\n",
    "from sklearn.feature_extraction import text\n",
    "from tqdm import tqdm, tqdm_notebook\n",
    "\n",
    "import json"
   ]
  },
  {
   "cell_type": "code",
   "execution_count": 2,
   "metadata": {},
   "outputs": [],
   "source": [
    "input_path = '../data/'\n",
    "train_dataframe = pd.read_csv(input_path + 'opioid_tweets.csv')"
   ]
  },
  {
   "cell_type": "code",
   "execution_count": 46,
   "metadata": {},
   "outputs": [
    {
     "data": {
      "text/html": [
       "<div>\n",
       "<style scoped>\n",
       "    .dataframe tbody tr th:only-of-type {\n",
       "        vertical-align: middle;\n",
       "    }\n",
       "\n",
       "    .dataframe tbody tr th {\n",
       "        vertical-align: top;\n",
       "    }\n",
       "\n",
       "    .dataframe thead th {\n",
       "        text-align: right;\n",
       "    }\n",
       "</style>\n",
       "<table border=\"1\" class=\"dataframe\">\n",
       "  <thead>\n",
       "    <tr style=\"text-align: right;\">\n",
       "      <th></th>\n",
       "      <th>id</th>\n",
       "      <th>tweet_id</th>\n",
       "      <th>content</th>\n",
       "      <th>created_at</th>\n",
       "      <th>fav_count</th>\n",
       "      <th>url_present</th>\n",
       "      <th>user_name</th>\n",
       "      <th>followers_count</th>\n",
       "      <th>friends_count</th>\n",
       "      <th>user_description</th>\n",
       "    </tr>\n",
       "  </thead>\n",
       "  <tbody>\n",
       "    <tr>\n",
       "      <th>0</th>\n",
       "      <td>1</td>\n",
       "      <td>1.18237E+18</td>\n",
       "      <td>Boston Police, Public Health Officials To Trea...</td>\n",
       "      <td>10/10/19</td>\n",
       "      <td>662</td>\n",
       "      <td>TRUE</td>\n",
       "      <td>SaraCarterDC</td>\n",
       "      <td>836793</td>\n",
       "      <td>4656.0</td>\n",
       "      <td>@FoxNews Contributor, award winning National S...</td>\n",
       "    </tr>\n",
       "    <tr>\n",
       "      <th>1</th>\n",
       "      <td>2</td>\n",
       "      <td>1.18212E+18</td>\n",
       "      <td>Three #Chinese nationals were charged last wee...</td>\n",
       "      <td>10/10/19</td>\n",
       "      <td>302</td>\n",
       "      <td>TRUE</td>\n",
       "      <td>EpochTimes</td>\n",
       "      <td>134594</td>\n",
       "      <td>102.0</td>\n",
       "      <td>An independent, award-winning voice in print &amp;...</td>\n",
       "    </tr>\n",
       "    <tr>\n",
       "      <th>2</th>\n",
       "      <td>3</td>\n",
       "      <td>1.18236E+18</td>\n",
       "      <td>Three #Chinese nationals were charged with imp...</td>\n",
       "      <td>10/10/19</td>\n",
       "      <td>164</td>\n",
       "      <td>TRUE</td>\n",
       "      <td>EpochTimes</td>\n",
       "      <td>134594</td>\n",
       "      <td>102.0</td>\n",
       "      <td>An independent, award-winning voice in print &amp;...</td>\n",
       "    </tr>\n",
       "    <tr>\n",
       "      <th>3</th>\n",
       "      <td>4</td>\n",
       "      <td>1.18272E+18</td>\n",
       "      <td>Boston is using a chemical warfare device to h...</td>\n",
       "      <td>10/11/19</td>\n",
       "      <td>0</td>\n",
       "      <td>TRUE</td>\n",
       "      <td>BUSPH</td>\n",
       "      <td>27642</td>\n",
       "      <td>2202.0</td>\n",
       "      <td>The official Twitter of Boston University Scho...</td>\n",
       "    </tr>\n",
       "    <tr>\n",
       "      <th>4</th>\n",
       "      <td>5</td>\n",
       "      <td>1.18272E+18</td>\n",
       "      <td>This makes no sense given what President Trump...</td>\n",
       "      <td>10/11/19</td>\n",
       "      <td>0</td>\n",
       "      <td>TRUE</td>\n",
       "      <td>FlagHiApp</td>\n",
       "      <td>1893</td>\n",
       "      <td>4547.0</td>\n",
       "      <td>FlagHi™ calculates how temperature, elevation ...</td>\n",
       "    </tr>\n",
       "    <tr>\n",
       "      <th>...</th>\n",
       "      <td>...</td>\n",
       "      <td>...</td>\n",
       "      <td>...</td>\n",
       "      <td>...</td>\n",
       "      <td>...</td>\n",
       "      <td>...</td>\n",
       "      <td>...</td>\n",
       "      <td>...</td>\n",
       "      <td>...</td>\n",
       "      <td>...</td>\n",
       "    </tr>\n",
       "    <tr>\n",
       "      <th>495</th>\n",
       "      <td>604178</td>\n",
       "      <td>1.1892E+18</td>\n",
       "      <td>@tcpineset First off I was not that first year...</td>\n",
       "      <td>10/29/19</td>\n",
       "      <td>0</td>\n",
       "      <td>FALSE</td>\n",
       "      <td>Codeine_Dreams_</td>\n",
       "      <td>1205</td>\n",
       "      <td>1099.0</td>\n",
       "      <td>Social Loner. 🌱 Distant Clinger.👋🏾 ♉️🌞♍️🌛✌🏾#FM...</td>\n",
       "    </tr>\n",
       "    <tr>\n",
       "      <th>496</th>\n",
       "      <td>604179</td>\n",
       "      <td>1.1892E+18</td>\n",
       "      <td>Not having to go on SoundCloud to listen to co...</td>\n",
       "      <td>10/29/19</td>\n",
       "      <td>1</td>\n",
       "      <td>FALSE</td>\n",
       "      <td>amiiiralias</td>\n",
       "      <td>298</td>\n",
       "      <td>289.0</td>\n",
       "      <td>NaN</td>\n",
       "    </tr>\n",
       "    <tr>\n",
       "      <th>497</th>\n",
       "      <td>32165</td>\n",
       "      <td>1.18235E+18</td>\n",
       "      <td>We catering promethazine codeine cough syzurp ...</td>\n",
       "      <td>10/10/19</td>\n",
       "      <td>4</td>\n",
       "      <td>FALSE</td>\n",
       "      <td>MalikAtwater</td>\n",
       "      <td>475</td>\n",
       "      <td>203.0</td>\n",
       "      <td>Nuck up if you buck up</td>\n",
       "    </tr>\n",
       "    <tr>\n",
       "      <th>498</th>\n",
       "      <td>60553</td>\n",
       "      <td>1.18248E+18</td>\n",
       "      <td>Nobody: \\n\\nMe randomly: OXYCONTIN WHAT I PISS</td>\n",
       "      <td>10/11/19</td>\n",
       "      <td>0</td>\n",
       "      <td>FALSE</td>\n",
       "      <td>AlmightySelma</td>\n",
       "      <td>686</td>\n",
       "      <td>597.0</td>\n",
       "      <td>new twitter. ♈️</td>\n",
       "    </tr>\n",
       "    <tr>\n",
       "      <th>499</th>\n",
       "      <td>604182</td>\n",
       "      <td>1.1892E+18</td>\n",
       "      <td>@XnextiumX You know you could always fight me ...</td>\n",
       "      <td>10/29/19</td>\n",
       "      <td>0</td>\n",
       "      <td>FALSE</td>\n",
       "      <td>Codeine_Dreams_</td>\n",
       "      <td>1205</td>\n",
       "      <td>1099.0</td>\n",
       "      <td>Social Loner. 🌱 Distant Clinger.👋🏾 ♉️🌞♍️🌛✌🏾#FM...</td>\n",
       "    </tr>\n",
       "  </tbody>\n",
       "</table>\n",
       "<p>500 rows × 10 columns</p>\n",
       "</div>"
      ],
      "text/plain": [
       "         id     tweet_id                                            content  \\\n",
       "0         1  1.18237E+18  Boston Police, Public Health Officials To Trea...   \n",
       "1         2  1.18212E+18  Three #Chinese nationals were charged last wee...   \n",
       "2         3  1.18236E+18  Three #Chinese nationals were charged with imp...   \n",
       "3         4  1.18272E+18  Boston is using a chemical warfare device to h...   \n",
       "4         5  1.18272E+18  This makes no sense given what President Trump...   \n",
       "..      ...          ...                                                ...   \n",
       "495  604178   1.1892E+18  @tcpineset First off I was not that first year...   \n",
       "496  604179   1.1892E+18  Not having to go on SoundCloud to listen to co...   \n",
       "497   32165  1.18235E+18  We catering promethazine codeine cough syzurp ...   \n",
       "498   60553  1.18248E+18     Nobody: \\n\\nMe randomly: OXYCONTIN WHAT I PISS   \n",
       "499  604182   1.1892E+18  @XnextiumX You know you could always fight me ...   \n",
       "\n",
       "    created_at fav_count url_present        user_name followers_count  \\\n",
       "0     10/10/19       662        TRUE     SaraCarterDC          836793   \n",
       "1     10/10/19       302        TRUE       EpochTimes          134594   \n",
       "2     10/10/19       164        TRUE       EpochTimes          134594   \n",
       "3     10/11/19         0        TRUE            BUSPH           27642   \n",
       "4     10/11/19         0        TRUE        FlagHiApp            1893   \n",
       "..         ...       ...         ...              ...             ...   \n",
       "495   10/29/19         0       FALSE  Codeine_Dreams_            1205   \n",
       "496   10/29/19         1       FALSE      amiiiralias             298   \n",
       "497   10/10/19         4       FALSE     MalikAtwater             475   \n",
       "498   10/11/19         0       FALSE    AlmightySelma             686   \n",
       "499   10/29/19         0       FALSE  Codeine_Dreams_            1205   \n",
       "\n",
       "     friends_count                                   user_description  \n",
       "0           4656.0  @FoxNews Contributor, award winning National S...  \n",
       "1            102.0  An independent, award-winning voice in print &...  \n",
       "2            102.0  An independent, award-winning voice in print &...  \n",
       "3           2202.0  The official Twitter of Boston University Scho...  \n",
       "4           4547.0  FlagHi™ calculates how temperature, elevation ...  \n",
       "..             ...                                                ...  \n",
       "495         1099.0  Social Loner. 🌱 Distant Clinger.👋🏾 ♉️🌞♍️🌛✌🏾#FM...  \n",
       "496          289.0                                                NaN  \n",
       "497          203.0                             Nuck up if you buck up  \n",
       "498          597.0                                    new twitter. ♈️  \n",
       "499         1099.0  Social Loner. 🌱 Distant Clinger.👋🏾 ♉️🌞♍️🌛✌🏾#FM...  \n",
       "\n",
       "[500 rows x 10 columns]"
      ]
     },
     "execution_count": 46,
     "metadata": {},
     "output_type": "execute_result"
    }
   ],
   "source": [
    "train_dataframe.head(500)"
   ]
  },
  {
   "cell_type": "code",
   "execution_count": 21,
   "metadata": {},
   "outputs": [],
   "source": [
    "# Creating a list of stopwords\n",
    "stops = stopwords.words('english')\n",
    "# Add stop variants without single quotes\n",
    "no_quotes = [re.sub(r'\\'','',word) for word in stops if \"'\" in word]\n",
    "my_stop_words = [\"codeine\", \"hydrocodone\", \"morphine\", \"oxycodone\", \"hydromorphone\", \"fentanyl\", \"oxycontin\", \"vicodin\", \"percocet\"]\n",
    "stops.extend(no_quotes)\n",
    "stops.extend(my_stop_words)"
   ]
  },
  {
   "cell_type": "markdown",
   "metadata": {},
   "source": [
    "## CLEANING TIME XD"
   ]
  },
  {
   "cell_type": "code",
   "execution_count": 22,
   "metadata": {},
   "outputs": [],
   "source": [
    "def clean_string(string):\n",
    "    # remove HTML entities\n",
    "    temp = re.sub(r'\\&\\w*;','', string)\n",
    "    # remove @user\n",
    "    temp = re.sub(r'@(\\w+)','', temp)\n",
    "    # remove links\n",
    "    temp = re.sub(r'(http|https|ftp)://[a-zA-Z0-9\\\\./]+','', temp)\n",
    "    # lowercase\n",
    "    temp = temp.lower()\n",
    "    # remove hashtags\n",
    "#     temp = re.sub(r'#(\\w+)','', temp)\n",
    "    # remove repeating characters\n",
    "    temp = re.sub(r'(.)\\1{1,}',r'\\1\\1', temp)\n",
    "    # remove non-letters\n",
    "    temp = re.sub(\"[^a-zA-Z]\",\" \", temp)\n",
    "    # remove anything that is less than two characters\n",
    "    temp = re.sub(r'\\b\\w{1,2}\\b','',temp)\n",
    "    # remove multiple spaces\n",
    "    temp = re.sub(r'\\s\\s+', ' ', temp)\n",
    "    return temp\n",
    "\n",
    "def str_preprocess(string):\n",
    "    stemmer = PorterStemmer()\n",
    "    # removing punctuation\n",
    "    removed_punc = ''.join([char for char in string if char not in punctuation])\n",
    "    # removing stopwords\n",
    "    cleaned = [stemmer.stem(word.lower()) for word in removed_punc.split(' ') if word not in stops]\n",
    "    return ' '.join(cleaned)"
   ]
  },
  {
   "cell_type": "code",
   "execution_count": 23,
   "metadata": {},
   "outputs": [],
   "source": [
    "#my_stop_words = text.ENGLISH_STOP_WORDS.union([\"codeine\", \"hydrocodone\", \"morphine\", \"oxycodone\", \"hydromorphone\", \"fentanyl\", \"oxycontin\", \"vicodin\", \"percocet\"])\n",
    "docs = train_dataframe.content.astype(str)"
   ]
  },
  {
   "cell_type": "code",
   "execution_count": 24,
   "metadata": {},
   "outputs": [],
   "source": [
    "cleaned_frame = docs.apply(clean_string).apply(str_preprocess)"
   ]
  },
  {
   "cell_type": "code",
   "execution_count": 25,
   "metadata": {},
   "outputs": [
    {
     "data": {
      "text/plain": [
       "0        boston polic public health offici treat biowea...\n",
       "1        three chines nation charg last week import dis...\n",
       "2        three chines nation charg import distribut par...\n",
       "3           boston use chemic warfar devic help fight via \n",
       "4        make sens given presid trump alreadi done cont...\n",
       "                               ...                        \n",
       "42949    thank got motrin tri naproxen excedrin kid go ...\n",
       "42950     one year husband dress realli fat elvi made c...\n",
       "42951     fractur growth plate doctor gave year later c...\n",
       "42952     mess fuck like real imagin recreat zero toler...\n",
       "42953    anyon oxi gasp last two like fuckin gold dust ...\n",
       "Name: content, Length: 42954, dtype: object"
      ]
     },
     "execution_count": 25,
     "metadata": {},
     "output_type": "execute_result"
    }
   ],
   "source": [
    "cleaned_frame"
   ]
  },
  {
   "cell_type": "code",
   "execution_count": 26,
   "metadata": {},
   "outputs": [],
   "source": [
    "td_idf_vec = TfidfVectorizer(stop_words=my_stop_words, max_features = 20000)\n",
    "X = td_idf_vec.fit_transform(cleaned_frame)\n",
    "X_norm = normalize(X)\n",
    "X_arr = X_norm.toarray()"
   ]
  },
  {
   "cell_type": "code",
   "execution_count": 27,
   "metadata": {},
   "outputs": [],
   "source": [
    "# SVD IS PREFERRED HERE AND TRUNCATED SVD WORKS ON TERM COUNT/TF-IDF MATRICES AS RETURNED BY THE VECTORIZER\n",
    "# THIS IS LATENT SEMANTIC ANALYSIS\n",
    "data_svd = TruncatedSVD(n_components = 250) #BEST VALUE FOR TIME-COMPLEXITY IS N=250\n",
    "response_svd = data_svd.fit_transform(X_arr)\n",
    "#var_explained = data_svd.explained_variance_ratio_.sum() # This was used to determine the percent of variance explained by additional n_components"
   ]
  },
  {
   "cell_type": "markdown",
   "metadata": {},
   "source": [
    "## K-Cluster Hyperparam Testing\n",
    "Going to test the range of k that makes this k means have the best score\n",
    "This is proving to be harder than it seems, after getting rid of all the stopwords, links, and @user symbols, the clutering score is starting to get a little fuzzy. I don't think there is an optimal way to cluster them??"
   ]
  },
  {
   "cell_type": "code",
   "execution_count": 11,
   "metadata": {},
   "outputs": [
    {
     "data": {
      "application/vnd.jupyter.widget-view+json": {
       "model_id": "5f79907322af4bc1be2cf6131ad91caa",
       "version_major": 2,
       "version_minor": 0
      },
      "text/plain": [
       "HBox(children=(IntProgress(value=0, max=49), HTML(value='')))"
      ]
     },
     "metadata": {},
     "output_type": "display_data"
    },
    {
     "name": "stdout",
     "output_type": "stream",
     "text": [
      "\n"
     ]
    },
    {
     "data": {
      "image/png": "[encoded data removed]",
      "text/plain": [
       "<Figure size 432x288 with 1 Axes>"
      ]
     },
     "metadata": {
      "needs_background": "light"
     },
     "output_type": "display_data"
    }
   ],
   "source": [
    "# TESTING FOR THE OPTIMAL NUMBER OF K CLUSTERS FOR THE KMEANS MODEL\n",
    "number_clusters = range(1, 50) # BEST ONE WAS 4-7\n",
    "max_iter_number = range(1, 1000, 100) # BEST ONE WAS 100\n",
    "kmeans = [MiniBatchKMeans(n_clusters=i, batch_size = 50, init= 'k-means++', max_iter = 100) for i in number_clusters]\n",
    "score = [kmeans[i].fit(response_svd).score(response_svd) for i in tqdm_notebook(range(len(kmeans)))]\n",
    "# PLOTTING ELBOW PLOT\n",
    "plt.plot(number_clusters, score)\n",
    "plt.xlabel('Number of Clusters')\n",
    "plt.ylabel('Score')\n",
    "plt.title('Elbow Method')\n",
    "plt.show()"
   ]
  },
  {
   "cell_type": "markdown",
   "metadata": {},
   "source": [
    "This is really confusing for me as there seems to be no plateau.\n",
    "\n",
    "I'm going to look at the other results here. These are from the non-stemmed and uncleaned dataset, the elbow plots are easier to read and there is less variance in the data."
   ]
  },
  {
   "cell_type": "code",
   "execution_count": 12,
   "metadata": {},
   "outputs": [
    {
     "data": {
      "image/png": "[encoded data removed]",
      "text/plain": [
       "<IPython.core.display.Image object>"
      ]
     },
     "execution_count": 12,
     "metadata": {},
     "output_type": "execute_result"
    }
   ],
   "source": [
    "Image(filename='../clustering/Elbow(k_1_100_10).png') "
   ]
  },
  {
   "cell_type": "code",
   "execution_count": 13,
   "metadata": {},
   "outputs": [
    {
     "data": {
      "image/png": "[encoded data removed]",
      "text/plain": [
       "<IPython.core.display.Image object>"
      ]
     },
     "execution_count": 13,
     "metadata": {},
     "output_type": "execute_result"
    }
   ],
   "source": [
    "Image(filename='../clustering/Elbow(k_1_20).png')"
   ]
  },
  {
   "cell_type": "code",
   "execution_count": 109,
   "metadata": {},
   "outputs": [],
   "source": [
    "k_value = 100\n",
    "kmeans = MiniBatchKMeans(n_clusters=k_value, batch_size = 100, init= 'k-means++', max_iter = 100)\n",
    "fitted_values = kmeans.fit(response_svd)\n",
    "predicted_values = kmeans.predict(response_svd)"
   ]
  },
  {
   "cell_type": "code",
   "execution_count": 110,
   "metadata": {},
   "outputs": [
    {
     "ename": "IndexError",
     "evalue": "list index out of range",
     "output_type": "error",
     "traceback": [
      "\u001b[0;31m---------------------------------------------------------------------------\u001b[0m",
      "\u001b[0;31mIndexError\u001b[0m                                Traceback (most recent call last)",
      "\u001b[0;32m<ipython-input-110-6cee33c584a2>\u001b[0m in \u001b[0;36m<module>\u001b[0;34m\u001b[0m\n\u001b[1;32m     11\u001b[0m         \u001b[0mdfs\u001b[0m\u001b[0;34m.\u001b[0m\u001b[0mappend\u001b[0m\u001b[0;34m(\u001b[0m\u001b[0mdf\u001b[0m\u001b[0;34m)\u001b[0m\u001b[0;34m\u001b[0m\u001b[0;34m\u001b[0m\u001b[0m\n\u001b[1;32m     12\u001b[0m     \u001b[0;32mreturn\u001b[0m \u001b[0mdfs\u001b[0m\u001b[0;34m\u001b[0m\u001b[0;34m\u001b[0m\u001b[0m\n\u001b[0;32m---> 13\u001b[0;31m \u001b[0mdfs\u001b[0m \u001b[0;34m=\u001b[0m \u001b[0mget_top_features_cluster\u001b[0m\u001b[0;34m(\u001b[0m\u001b[0mX_arr\u001b[0m\u001b[0;34m,\u001b[0m \u001b[0mpredicted_values\u001b[0m\u001b[0;34m,\u001b[0m \u001b[0;36m15\u001b[0m\u001b[0;34m)\u001b[0m\u001b[0;34m\u001b[0m\u001b[0;34m\u001b[0m\u001b[0m\n\u001b[0m",
      "\u001b[0;32m<ipython-input-110-6cee33c584a2>\u001b[0m in \u001b[0;36mget_top_features_cluster\u001b[0;34m(tf_idf_array, prediction, n_feats)\u001b[0m\n\u001b[1;32m      7\u001b[0m         \u001b[0msorted_means\u001b[0m \u001b[0;34m=\u001b[0m \u001b[0mnp\u001b[0m\u001b[0;34m.\u001b[0m\u001b[0margsort\u001b[0m\u001b[0;34m(\u001b[0m\u001b[0mx_means\u001b[0m\u001b[0;34m)\u001b[0m\u001b[0;34m[\u001b[0m\u001b[0;34m:\u001b[0m\u001b[0;34m:\u001b[0m\u001b[0;34m-\u001b[0m\u001b[0;36m1\u001b[0m\u001b[0;34m]\u001b[0m\u001b[0;34m[\u001b[0m\u001b[0;34m:\u001b[0m\u001b[0mn_feats\u001b[0m\u001b[0;34m]\u001b[0m \u001b[0;31m# indices with top 20 scores\u001b[0m\u001b[0;34m\u001b[0m\u001b[0;34m\u001b[0m\u001b[0m\n\u001b[1;32m      8\u001b[0m         \u001b[0mfeatures\u001b[0m \u001b[0;34m=\u001b[0m \u001b[0mtd_idf_vec\u001b[0m\u001b[0;34m.\u001b[0m\u001b[0mget_feature_names\u001b[0m\u001b[0;34m(\u001b[0m\u001b[0;34m)\u001b[0m\u001b[0;34m\u001b[0m\u001b[0;34m\u001b[0m\u001b[0m\n\u001b[0;32m----> 9\u001b[0;31m         \u001b[0mbest_features\u001b[0m \u001b[0;34m=\u001b[0m \u001b[0;34m[\u001b[0m\u001b[0;34m(\u001b[0m\u001b[0mfeatures\u001b[0m\u001b[0;34m[\u001b[0m\u001b[0mi\u001b[0m\u001b[0;34m]\u001b[0m\u001b[0;34m,\u001b[0m \u001b[0mx_means\u001b[0m\u001b[0;34m[\u001b[0m\u001b[0mi\u001b[0m\u001b[0;34m]\u001b[0m\u001b[0;34m)\u001b[0m \u001b[0;32mfor\u001b[0m \u001b[0mi\u001b[0m \u001b[0;32min\u001b[0m \u001b[0msorted_means\u001b[0m\u001b[0;34m]\u001b[0m\u001b[0;34m\u001b[0m\u001b[0;34m\u001b[0m\u001b[0m\n\u001b[0m\u001b[1;32m     10\u001b[0m         \u001b[0mdf\u001b[0m \u001b[0;34m=\u001b[0m \u001b[0mpd\u001b[0m\u001b[0;34m.\u001b[0m\u001b[0mDataFrame\u001b[0m\u001b[0;34m(\u001b[0m\u001b[0mbest_features\u001b[0m\u001b[0;34m,\u001b[0m \u001b[0mcolumns\u001b[0m \u001b[0;34m=\u001b[0m \u001b[0;34m[\u001b[0m\u001b[0;34m'features'\u001b[0m\u001b[0;34m,\u001b[0m \u001b[0;34m'score'\u001b[0m\u001b[0;34m]\u001b[0m\u001b[0;34m)\u001b[0m\u001b[0;34m\u001b[0m\u001b[0;34m\u001b[0m\u001b[0m\n\u001b[1;32m     11\u001b[0m         \u001b[0mdfs\u001b[0m\u001b[0;34m.\u001b[0m\u001b[0mappend\u001b[0m\u001b[0;34m(\u001b[0m\u001b[0mdf\u001b[0m\u001b[0;34m)\u001b[0m\u001b[0;34m\u001b[0m\u001b[0;34m\u001b[0m\u001b[0m\n",
      "\u001b[0;32m<ipython-input-110-6cee33c584a2>\u001b[0m in \u001b[0;36m<listcomp>\u001b[0;34m(.0)\u001b[0m\n\u001b[1;32m      7\u001b[0m         \u001b[0msorted_means\u001b[0m \u001b[0;34m=\u001b[0m \u001b[0mnp\u001b[0m\u001b[0;34m.\u001b[0m\u001b[0margsort\u001b[0m\u001b[0;34m(\u001b[0m\u001b[0mx_means\u001b[0m\u001b[0;34m)\u001b[0m\u001b[0;34m[\u001b[0m\u001b[0;34m:\u001b[0m\u001b[0;34m:\u001b[0m\u001b[0;34m-\u001b[0m\u001b[0;36m1\u001b[0m\u001b[0;34m]\u001b[0m\u001b[0;34m[\u001b[0m\u001b[0;34m:\u001b[0m\u001b[0mn_feats\u001b[0m\u001b[0;34m]\u001b[0m \u001b[0;31m# indices with top 20 scores\u001b[0m\u001b[0;34m\u001b[0m\u001b[0;34m\u001b[0m\u001b[0m\n\u001b[1;32m      8\u001b[0m         \u001b[0mfeatures\u001b[0m \u001b[0;34m=\u001b[0m \u001b[0mtd_idf_vec\u001b[0m\u001b[0;34m.\u001b[0m\u001b[0mget_feature_names\u001b[0m\u001b[0;34m(\u001b[0m\u001b[0;34m)\u001b[0m\u001b[0;34m\u001b[0m\u001b[0;34m\u001b[0m\u001b[0m\n\u001b[0;32m----> 9\u001b[0;31m         \u001b[0mbest_features\u001b[0m \u001b[0;34m=\u001b[0m \u001b[0;34m[\u001b[0m\u001b[0;34m(\u001b[0m\u001b[0mfeatures\u001b[0m\u001b[0;34m[\u001b[0m\u001b[0mi\u001b[0m\u001b[0;34m]\u001b[0m\u001b[0;34m,\u001b[0m \u001b[0mx_means\u001b[0m\u001b[0;34m[\u001b[0m\u001b[0mi\u001b[0m\u001b[0;34m]\u001b[0m\u001b[0;34m)\u001b[0m \u001b[0;32mfor\u001b[0m \u001b[0mi\u001b[0m \u001b[0;32min\u001b[0m \u001b[0msorted_means\u001b[0m\u001b[0;34m]\u001b[0m\u001b[0;34m\u001b[0m\u001b[0;34m\u001b[0m\u001b[0m\n\u001b[0m\u001b[1;32m     10\u001b[0m         \u001b[0mdf\u001b[0m \u001b[0;34m=\u001b[0m \u001b[0mpd\u001b[0m\u001b[0;34m.\u001b[0m\u001b[0mDataFrame\u001b[0m\u001b[0;34m(\u001b[0m\u001b[0mbest_features\u001b[0m\u001b[0;34m,\u001b[0m \u001b[0mcolumns\u001b[0m \u001b[0;34m=\u001b[0m \u001b[0;34m[\u001b[0m\u001b[0;34m'features'\u001b[0m\u001b[0;34m,\u001b[0m \u001b[0;34m'score'\u001b[0m\u001b[0;34m]\u001b[0m\u001b[0;34m)\u001b[0m\u001b[0;34m\u001b[0m\u001b[0;34m\u001b[0m\u001b[0m\n\u001b[1;32m     11\u001b[0m         \u001b[0mdfs\u001b[0m\u001b[0;34m.\u001b[0m\u001b[0mappend\u001b[0m\u001b[0;34m(\u001b[0m\u001b[0mdf\u001b[0m\u001b[0;34m)\u001b[0m\u001b[0;34m\u001b[0m\u001b[0;34m\u001b[0m\u001b[0m\n",
      "\u001b[0;31mIndexError\u001b[0m: list index out of range"
     ]
    }
   ],
   "source": [
    "def get_top_features_cluster(tf_idf_array, prediction, n_feats):\n",
    "    labels = np.unique(prediction)\n",
    "    dfs = []\n",
    "    for label in labels:\n",
    "        id_temp = np.where(prediction==label) # indices for each cluster\n",
    "        x_means = np.mean(tf_idf_array[id_temp], axis = 0) # returns average score across cluster\n",
    "        sorted_means = np.argsort(x_means)[::-1][:n_feats] # indices with top 20 scores\n",
    "        features = td_idf_vec.get_feature_names()\n",
    "        best_features = [(features[i], x_means[i]) for i in sorted_means]\n",
    "        df = pd.DataFrame(best_features, columns = ['features', 'score'])\n",
    "        dfs.append(df)\n",
    "    return dfs\n",
    "dfs = get_top_features_cluster(X_arr, predicted_values, 15)"
   ]
  },
  {
   "cell_type": "code",
   "execution_count": 111,
   "metadata": {},
   "outputs": [],
   "source": [
    "bad_tweets = [6047, 6048, 472376, 554992, 554993, 554994, 554995, 6047, 80456, 33230, 15809, 6179, 6141, 6009, 5878, 17160]\n",
    "train = train_dataframe[train_dataframe.id.apply(lambda x: x.isnumeric())].astype({'id':'int32'})\n",
    "bad_content = train[train.id.isin(bad_tweets)]"
   ]
  },
  {
   "cell_type": "code",
   "execution_count": 112,
   "metadata": {},
   "outputs": [
    {
     "data": {
      "text/plain": [
       "array([12, 12, 12, 43, 70, 12, 12, 54, 76, 76, 70, 43, 43, 43, 43],\n",
       "      dtype=int32)"
      ]
     },
     "execution_count": 112,
     "metadata": {},
     "output_type": "execute_result"
    }
   ],
   "source": [
    "predicted_values[[652,  2378,  2445,  2476,  2477,  2558,  2587,  3523,  5067, 13495, 18144, 30652, 30653, 30654, 30655]]"
   ]
  },
  {
   "cell_type": "markdown",
   "metadata": {},
   "source": [
    "Following is a Latent Dirchelet Allocation (LDA) topic summary:"
   ]
  },
  {
   "cell_type": "code",
   "execution_count": 16,
   "metadata": {},
   "outputs": [
    {
     "data": {
      "image/png": "[encoded data removed]",
      "text/plain": [
       "<Figure size 1080x667.491 with 1 Axes>"
      ]
     },
     "metadata": {
      "needs_background": "light"
     },
     "output_type": "display_data"
    }
   ],
   "source": [
    "# Load the library with the CountVectorizer method\n",
    "from sklearn.feature_extraction.text import CountVectorizer\n",
    "\n",
    "# Helper function\n",
    "def plot_10_most_common_words(count_data, count_vectorizer):\n",
    "    import matplotlib.pyplot as plt\n",
    "    words = count_vectorizer.get_feature_names()\n",
    "    total_counts = np.zeros(len(words))\n",
    "    for t in count_data:\n",
    "        total_counts+=t.toarray()[0]\n",
    "    \n",
    "    count_dict = (zip(words, total_counts))\n",
    "    count_dict = sorted(count_dict, key=lambda x:x[1], reverse=True)[0:10]\n",
    "    words = [w[0] for w in count_dict]\n",
    "    counts = [w[1] for w in count_dict]\n",
    "    x_pos = np.arange(len(words)) \n",
    "    \n",
    "    plt.figure(2, figsize=(15, 15/1.6180))\n",
    "    plt.subplot(title='10 most common words')\n",
    "    sns.set_context(\"notebook\", font_scale=1.25, rc={\"lines.linewidth\": 2.5})\n",
    "    sns.barplot(x_pos, counts, palette='husl')\n",
    "    plt.xticks(x_pos, words, rotation=90) \n",
    "    plt.xlabel('words')\n",
    "    plt.ylabel('counts')\n",
    "    plt.show()# Initialise the count vectorizer with the English stop words\n",
    "    \n",
    "count_vectorizer = CountVectorizer(stop_words=my_stop_words)\n",
    "# Fit and transform the processed titles\n",
    "count_data = count_vectorizer.fit_transform(cleaned_frame)\n",
    "# Visualise the 10 most common words\n",
    "plot_10_most_common_words(count_data, count_vectorizer)"
   ]
  },
  {
   "cell_type": "code",
   "execution_count": 17,
   "metadata": {},
   "outputs": [
    {
     "name": "stdout",
     "output_type": "stream",
     "text": [
      "Topics found via LDA:\n",
      "\n",
      "Topic #0:\n",
      "get pain like take want feel one day got need\n",
      "\n",
      "Topic #1:\n",
      "like crazi got stripper joint song drink die fuck need\n",
      "\n",
      "Topic #2:\n",
      "drug opioid call overdos someth heroin china painkil kill death\n",
      "\n",
      "Topic #3:\n",
      "opioid china one peopl heroin took love use drug crack\n",
      "\n",
      "Topic #4:\n",
      "crazi say drug maker angel enough year take time million\n"
     ]
    }
   ],
   "source": [
    "# Load the LDA model from sk-learn\n",
    "from sklearn.decomposition import LatentDirichletAllocation as LDA\n",
    " \n",
    "# Helper function\n",
    "def print_topics(model, count_vectorizer, n_top_words):\n",
    "    words = count_vectorizer.get_feature_names()\n",
    "    for topic_idx, topic in enumerate(model.components_):\n",
    "        print(\"\\nTopic #%d:\" % topic_idx)\n",
    "        print(\" \".join([words[i]\n",
    "                        for i in topic.argsort()[:-n_top_words - 1:-1]]))\n",
    "        \n",
    "# Tweak the two parameters below\n",
    "number_topics = 5\n",
    "number_words = 10\n",
    "# Create and fit the LDA model\n",
    "lda = LDA(n_components=number_topics, n_jobs=-1)\n",
    "lda.fit(count_data)\n",
    "# Print the topics found by the LDA model\n",
    "print(\"Topics found via LDA:\")\n",
    "print_topics(lda, count_vectorizer, number_words)"
   ]
  },
  {
   "cell_type": "code",
   "execution_count": 18,
   "metadata": {},
   "outputs": [
    {
     "name": "stdout",
     "output_type": "stream",
     "text": [
      "[[0.02233343 0.02233991 0.40045844 0.02271636 0.53215187]\n",
      " [0.02039054 0.02010332 0.02054438 0.41789196 0.5210698 ]\n",
      " [0.02243598 0.0223102  0.02305432 0.36252999 0.56966952]\n",
      " ...\n",
      " [0.79446791 0.01883777 0.01882715 0.14905964 0.01880752]\n",
      " [0.9191064  0.02048467 0.02012552 0.02019007 0.02009335]\n",
      " [0.82367519 0.01715707 0.01670991 0.12564964 0.01680818]]\n"
     ]
    }
   ],
   "source": [
    "predict = lda.transform(count_data)\n",
    "print(predict)"
   ]
  },
  {
   "cell_type": "code",
   "execution_count": null,
   "metadata": {},
   "outputs": [],
   "source": []
  }
 ],
 "metadata": {
  "kernelspec": {
   "display_name": "Python 3",
   "language": "python",
   "name": "python3"
  },
  "language_info": {
   "codemirror_mode": {
    "name": "ipython",
    "version": 3
   },
   "file_extension": ".py",
   "mimetype": "text/x-python",
   "name": "python",
   "nbconvert_exporter": "python",
   "pygments_lexer": "ipython3",
   "version": "3.7.5"
  }
 },
 "nbformat": 4,
 "nbformat_minor": 2
}
