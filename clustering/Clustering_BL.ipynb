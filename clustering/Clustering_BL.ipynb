{
 "cells": [
  {
   "cell_type": "markdown",
   "metadata": {},
   "source": [
    "# Stem & Tokenize\n"
   ]
  },
  {
   "cell_type": "code",
   "execution_count": 1,
   "metadata": {},
   "outputs": [],
   "source": [
    "import numpy as np\n",
    "import pandas as pd\n",
    "import nltk\n",
    "from bs4 import BeautifulSoup\n",
    "import re\n",
    "import os\n",
    "import codecs\n",
    "from sklearn import feature_extraction\n",
    "import mpld3"
   ]
  },
  {
   "cell_type": "code",
   "execution_count": 2,
   "metadata": {},
   "outputs": [],
   "source": [
    "df = pd.read_csv(\"data/opioid_tweets_new2.csv\")"
   ]
  },
  {
   "cell_type": "code",
   "execution_count": 3,
   "metadata": {},
   "outputs": [],
   "source": [
    "# load nltk's English stopwords as variable called 'stopwords'\n",
    "stopwords = nltk.corpus.stopwords.words('english')\n",
    "\n",
    "# load nltk's SnowballStemmer as variabled 'stemmer'\n",
    "from nltk.stem.snowball import SnowballStemmer\n",
    "stemmer = SnowballStemmer(\"english\")"
   ]
  },
  {
   "cell_type": "code",
   "execution_count": 4,
   "metadata": {},
   "outputs": [],
   "source": [
    "# here I define a tokenizer and stemmer which returns the set of stems in the text that it is passed\n",
    "\n",
    "def tokenize_and_stem(text):\n",
    "    # first tokenize by sentence, then by word to ensure that punctuation is caught as it's own token\n",
    "    tokens = [word for sent in nltk.sent_tokenize(text) for word in nltk.word_tokenize(sent)]\n",
    "    filtered_tokens = []\n",
    "    # filter out any tokens not containing letters (e.g., numeric tokens, raw punctuation)\n",
    "    for token in tokens:\n",
    "        if re.search('[a-zA-Z]', token):\n",
    "            filtered_tokens.append(token)\n",
    "    stems = [stemmer.stem(t) for t in filtered_tokens]\n",
    "    return stems\n",
    "\n",
    "\n",
    "def tokenize_only(text):\n",
    "    # first tokenize by sentence, then by word to ensure that punctuation is caught as it's own token\n",
    "    tokens = [word.lower() for sent in nltk.sent_tokenize(text) for word in nltk.word_tokenize(sent)]\n",
    "    filtered_tokens = []\n",
    "    # filter out any tokens not containing letters (e.g., numeric tokens, raw punctuation, urls)\n",
    "    for token in tokens:\n",
    "        if re.search('[a-zA-Z]', token):\n",
    "            filtered_tokens.append(token)\n",
    "    return filtered_tokens"
   ]
  },
  {
   "cell_type": "code",
   "execution_count": 5,
   "metadata": {},
   "outputs": [],
   "source": [
    "totalvocab_stemmed = [] # List of the stemmed words\n",
    "totalvocab_tokenized = [] #List of the tokenized words\n",
    "for i in df['content']:\n",
    "    allwords_stemmed = tokenize_and_stem(i)\n",
    "    totalvocab_stemmed.extend(allwords_stemmed)\n",
    "    \n",
    "    allwords_tokenized = tokenize_only(i)\n",
    "    totalvocab_tokenized.extend(allwords_tokenized)"
   ]
  },
  {
   "cell_type": "code",
   "execution_count": 6,
   "metadata": {},
   "outputs": [
    {
     "name": "stdout",
     "output_type": "stream",
     "text": [
      "664382 664382\n"
     ]
    }
   ],
   "source": [
    "totalvocab_stemmed[1]\n",
    "print( len(totalvocab_stemmed), len(totalvocab_tokenized))"
   ]
  },
  {
   "cell_type": "code",
   "execution_count": 7,
   "metadata": {},
   "outputs": [],
   "source": [
    "vocab_frame = pd.DataFrame({'words': totalvocab_tokenized}, index = totalvocab_stemmed)"
   ]
  },
  {
   "cell_type": "code",
   "execution_count": 8,
   "metadata": {},
   "outputs": [],
   "source": [
    "from sklearn.feature_extraction.text import TfidfVectorizer"
   ]
  },
  {
   "cell_type": "code",
   "execution_count": 9,
   "metadata": {},
   "outputs": [],
   "source": [
    "def clean_string(string):\n",
    "    # remove @user\n",
    "    temp = re.sub(r'@(\\w+)','', string) # clearly we do not wish to look at the user name.\n",
    "        # remove links\n",
    "    temp = re.sub(r'https://[a-zA-Z0-9\\\\./]+\\s*','', temp) # had to modify this portion from Brenans, as his didn't clear http \n",
    "     # remove non-letters\n",
    "    temp = re.sub(\"[^a-zA-Z]\",\" \", temp) # Will get rid of hashtags, $, etc.\n",
    "        # remove multiple spaces\n",
    "    temp = re.sub(r'\\s\\s+', ' ', temp) \n",
    "        # remove anything that is less than two characters\n",
    "    temp = re.sub(r'\\b\\w{1,2}\\b','',temp) # s will be an 'important character' if we do not include this\n",
    "    # I am assuming that is because s is not a stopword in nltk. we could adjust by getting ride of any single character\n",
    "    return temp\n",
    "\n",
    "content_clean = []\n",
    "for i in df['content']:\n",
    "    content_clean.append(clean_string(i))"
   ]
  },
  {
   "cell_type": "markdown",
   "metadata": {},
   "source": [
    "With a low min_df 'codein crazi' is a reference to the artist \"Future\", and might produce too much noise. Consider raising the df or adding it to the stop words. "
   ]
  },
  {
   "cell_type": "code",
   "execution_count": 46,
   "metadata": {},
   "outputs": [
    {
     "name": "stdout",
     "output_type": "stream",
     "text": [
      "Wall time: 22.4 s\n",
      "(42936, 88)\n"
     ]
    }
   ],
   "source": [
    "tfidf_vectorizer = TfidfVectorizer(max_df=.9, max_features=200000,\n",
    "                                 min_df = .01, stop_words= 'english' ,\n",
    "                                 use_idf=True, tokenizer=tokenize_and_stem, ngram_range=(1,3),\n",
    "                                   strip_accents = \"unicode\", lowercase = True )\n",
    " \n",
    "%time tfidf_matrix = tfidf_vectorizer.fit_transform(content_clean)\n",
    "#The warning message is present, despite adding strip_accent, in addition I believe I should add a preprocess\n",
    "#stop words from nltk. Setting stop_words = 'english' uses sklearn's stopwords\n",
    "\n",
    "print(tfidf_matrix.shape) #using min_df = .1, returns size of (42936, 4)"
   ]
  },
  {
   "cell_type": "code",
   "execution_count": 36,
   "metadata": {},
   "outputs": [
    {
     "name": "stdout",
     "output_type": "stream",
     "text": [
      "['addict', 'amp', 'angel', 'bad', 'becaus', 'billion', 'caus', 'china', 'codein', 'codein crazi', 'come', 'crazi', 'crisi', 'day', 'death', 'did', 'die', 'doctor', 'don', 'dose', 'drink', 'drug', 'famili', 'feel', 'fentanyl', 'fuck', 'futur', 'gave', 'good', 'got', 'help', 'heroin', 'high', 'hydrocodon', 'joint', 'just', 'kill', 'know', 'like', 'lol', 'look', 'love', 'make', 'maker', 'man', 'meth', 'million', 'morphin', 'na', 'need', 'new', 'onli', 'opioid', 'overdos', 'oxycodon', 'oxycontin', 'oxycontin maker', 'pain', 'peopl', 'percocet', 'pharma', 'pill', 'prescrib', 'purdu', 'purdu pharma', 'realli', 'right', 'sackler', 'said', 'say', 'shit', 'song', 'state', 'stop', 'stripper', 'stripper joint', 'thing', 'think', 'time', 'today', 'took', 'tri', 'use', 'vicodin', 'want', 'whi', 'work', 'year']\n"
     ]
    }
   ],
   "source": [
    "terms = tfidf_vectorizer.get_feature_names()\n",
    "print(terms) # Whether we use sklean, or nltk stopwords, we will end up with 'like'. I am very suprised this is not \n",
    "# a stop word."
   ]
  },
  {
   "cell_type": "code",
   "execution_count": 37,
   "metadata": {},
   "outputs": [],
   "source": [
    "vocabdic = tfidf_vectorizer.vocabulary_ #Is dictonary of our terms\n",
    "#print(vocabdic) # finna be usefull"
   ]
  },
  {
   "cell_type": "markdown",
   "metadata": {},
   "source": [
    "Some terms are too vague, perhaps we could add those to the  stop words and find the next m tweets that will lead to illicit drugs. The bad tweets document showed that (purchase, buy) where common in tweets selling drugs. "
   ]
  },
  {
   "cell_type": "code",
   "execution_count": 38,
   "metadata": {},
   "outputs": [
    {
     "data": {
      "text/plain": [
       "(42936, 88)"
      ]
     },
     "execution_count": 38,
     "metadata": {},
     "output_type": "execute_result"
    }
   ],
   "source": [
    "tfidf_matrix.shape"
   ]
  },
  {
   "cell_type": "code",
   "execution_count": 14,
   "metadata": {},
   "outputs": [],
   "source": [
    "from sklearn.metrics.pairwise import cosine_similarity"
   ]
  },
  {
   "cell_type": "code",
   "execution_count": 15,
   "metadata": {
    "scrolled": true
   },
   "outputs": [],
   "source": [
    "cosine = cosine_similarity(tfidf_matrix) # we are able to calc the arrary "
   ]
  },
  {
   "cell_type": "code",
   "execution_count": 16,
   "metadata": {},
   "outputs": [],
   "source": [
    "#echo 1 > /proc/sys/vm/overcommit_memory\n",
    "# I do not understand the stack exchange solution, I am sure it would help to have a good computer"
   ]
  },
  {
   "cell_type": "code",
   "execution_count": 17,
   "metadata": {},
   "outputs": [],
   "source": [
    "#dist = 1 - cosine # this wil not work"
   ]
  },
  {
   "cell_type": "markdown",
   "metadata": {},
   "source": [
    "# K - Means"
   ]
  },
  {
   "cell_type": "code",
   "execution_count": 18,
   "metadata": {
    "scrolled": true
   },
   "outputs": [],
   "source": [
    "# TESTING FOR THE OPTIMAL NUMBER OF K CLUSTERS FOR THE KMEANS MODEL\n",
    "from sklearn.cluster import KMeans\n",
    "import matplotlib.pyplot as plt\n",
    "import seaborn as sea\n",
    "%matplotlib inline"
   ]
  },
  {
   "cell_type": "code",
   "execution_count": 19,
   "metadata": {},
   "outputs": [],
   "source": [
    "wcss =[] # Within cluster sum of squares\n",
    "for i in range(1, 11):\n",
    "    kmeans = KMeans(n_clusters=i, init='k-means++', max_iter=300, n_init=10, random_state=0)\n",
    "    kmeans.fit(tfidf_matrix)\n",
    "    wcss.append(kmeans.inertia_)"
   ]
  },
  {
   "cell_type": "code",
   "execution_count": 20,
   "metadata": {},
   "outputs": [
    {
     "data": {
      "image/png": "[encoded data removed]",
      "text/plain": [
       "<Figure size 432x288 with 1 Axes>"
      ]
     },
     "metadata": {
      "needs_background": "light"
     },
     "output_type": "display_data"
    }
   ],
   "source": [
    "plt.plot(range(1, 11), wcss)\n",
    "plt.title('Elbow Method')\n",
    "plt.xlabel('Number of clusters')\n",
    "plt.ylabel('WCSS')\n",
    "plt.show() # showing plot from a prior tfidf"
   ]
  },
  {
   "cell_type": "markdown",
   "metadata": {},
   "source": [
    "Looks like the optimal number would is the number of terms we have from tfidf. Brenden worked his plot using .score(). I would consider doing it his was to find the correct amount of clusters. "
   ]
  },
  {
   "cell_type": "code",
   "execution_count": 39,
   "metadata": {},
   "outputs": [
    {
     "name": "stdout",
     "output_type": "stream",
     "text": [
      "Wall time: 26.6 s\n"
     ]
    }
   ],
   "source": [
    "from sklearn.cluster import KMeans\n",
    "\n",
    "num_clusters = 9 #using num clusters from a prior term list.\n",
    "\n",
    "km = KMeans(n_clusters=num_clusters, init='k-means++', max_iter=300, n_init=10, random_state=0)\n",
    "\n",
    "%time km.fit(tfidf_matrix)\n",
    "\n",
    "clusters = km.labels_.tolist() # The cluster is simply an array of non-negative integers \n"
   ]
  },
  {
   "cell_type": "code",
   "execution_count": 40,
   "metadata": {},
   "outputs": [],
   "source": [
    "from sklearn.externals import joblib\n",
    "\n",
    "joblib.dump(km,  'doc_cluster.pkl') # saves results for km as a pickle document\n",
    "km = joblib.load('doc_cluster.pkl') \n",
    "clusters = km.labels_.tolist() # Tells you what word, belongs to what group\n"
   ]
  },
  {
   "cell_type": "code",
   "execution_count": 41,
   "metadata": {},
   "outputs": [],
   "source": [
    "data = { 'clusters' : clusters, 'words': content_clean }\n",
    "frame = pd.DataFrame( data , index = [clusters] , columns = [ 'words' , 'clusters'] )\n",
    "#created a frame than can classify the rows clean rows of df['content']"
   ]
  },
  {
   "cell_type": "code",
   "execution_count": 42,
   "metadata": {},
   "outputs": [
    {
     "data": {
      "text/plain": [
       "7    18709\n",
       "6     5895\n",
       "4     4327\n",
       "3     3548\n",
       "5     3091\n",
       "2     2561\n",
       "0     2057\n",
       "1     1861\n",
       "8      887\n",
       "Name: clusters, dtype: int64"
      ]
     },
     "execution_count": 42,
     "metadata": {},
     "output_type": "execute_result"
    }
   ],
   "source": [
    "frame['clusters'].value_counts() #This tell you what each string, in df['content'] belongs to. "
   ]
  },
  {
   "cell_type": "code",
   "execution_count": 44,
   "metadata": {},
   "outputs": [
    {
     "name": "stdout",
     "output_type": "stream",
     "text": [
      "Top terms per cluster:\n",
      "\n",
      "Cluster 0 words: b'drug', b'fentanyl', b'angel', b'overdose', b'killing', b'meth', b'makes', b'heroin', b'addiction',\n",
      "Cluster 1 words: b'pain', b'morphine', b'codeine', b'amp', b'day', b'opioid', b'need', b'vicodin', b'just',\n",
      "Cluster 2 words: b'crazy', b'codeine', b'codeine', b'future', b'songs', b'time', b'just', b'got', b'amp',\n",
      "Cluster 3 words: b'codeine', b'got', b'drinking', b'like', b'just', b'amp', b'only', b'need', b'love',\n",
      "Cluster 4 words: b'morphine', b'like', b'only', b'just', b'time', b'high', b'need', b'bad', b'heroin',\n",
      "Cluster 5 words: b'percocet', b'stripper', b'joint', b'stripper', b'like', b'amp', b'got', b'just', b'fucked',\n",
      "Cluster 6 words: b'fentanyl', b'china', b'heroin', b'overdose', b'died', b'meth', b'death', b'opioid', b'killing',\n",
      "Cluster 7 words: b'oxycontin', b'vicodin', b'oxycodone', b'like', b'just', b'codeine', b'amp', b'say', b'opioid',\n",
      "Cluster 8 words: b'wanted', b'percocet', b'just', b'don', b'morphine', b'codeine', b'fentanyl', b'like', b'really',\n"
     ]
    }
   ],
   "source": [
    "from __future__ import print_function\n",
    "\n",
    "print(\"Top terms per cluster:\")\n",
    "print()\n",
    "order_centroids = km.cluster_centers_.argsort()[:, ::-1]\n",
    "for i in range(num_clusters):\n",
    "    print(\"Cluster %d words:\" % i, end='')\n",
    "    for ind in order_centroids[i, :9]:\n",
    "        print(' %s' % vocab_frame.loc[terms[ind].split(' ')].values.tolist()[0][0].encode('utf-8', 'ignore'), end=',')\n",
    "    print()"
   ]
  },
  {
   "cell_type": "markdown",
   "metadata": {},
   "source": [
    "Should definetly consider getting rid of drug names, and fix the issue of \"like\" being included"
   ]
  },
  {
   "cell_type": "markdown",
   "metadata": {},
   "source": [
    "# Multidimensional Scaling"
   ]
  },
  {
   "cell_type": "markdown",
   "metadata": {},
   "source": [
    "Need to solve the $ 1 - cosine$ issue to progress. Find the elbow in our data using another method as mine suggests using the amount of terms n we have as clusters. In addition my tfidf will produce an error abount stop words... Which stack exhange initally said was do to accents. Any help will be greatly appreciated. "
   ]
  },
  {
   "cell_type": "code",
   "execution_count": null,
   "metadata": {},
   "outputs": [],
   "source": []
  }
 ],
 "metadata": {
  "kernelspec": {
   "display_name": "Python 3",
   "language": "python",
   "name": "python3"
  },
  "language_info": {
   "codemirror_mode": {
    "name": "ipython",
    "version": 3
   },
   "file_extension": ".py",
   "mimetype": "text/x-python",
   "name": "python",
   "nbconvert_exporter": "python",
   "pygments_lexer": "ipython3",
   "version": "3.7.3"
  }
 },
 "nbformat": 4,
 "nbformat_minor": 2
}
