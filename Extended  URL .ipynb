{
 "cells": [
  {
   "cell_type": "markdown",
   "metadata": {},
   "source": [
    "From the requests library, there are many functions that will help us. $request.head()$ and $request.get()$ seem the most useful. I will illustrate below with a bad tweet: "
   ]
  },
  {
   "cell_type": "code",
   "execution_count": 1,
   "metadata": {},
   "outputs": [
    {
     "name": "stdout",
     "output_type": "stream",
     "text": [
      "<Response [301]>\n"
     ]
    }
   ],
   "source": [
    "# Using 'https://t.co/I5HajUrJ61'\n",
    "import requests as rq \n",
    "r = rq.head('https://t.co/I5HajUrJ61'); \n",
    "print(r)"
   ]
  },
  {
   "cell_type": "markdown",
   "metadata": {},
   "source": [
    "Using head, we find our response code. 301. From wikipedia: \n",
    "\n",
    "The HTTP response status code 301 Moved Permanently is used for permanent URL redirection, meaning current links or records using the URL that the response is received for should be updated.\n",
    "\n",
    "Using 301 we can computationaly identify when the link is \"bad\".  \n",
    "\n",
    "Futher more, to find the unshortened the url we have: "
   ]
  },
  {
   "cell_type": "code",
   "execution_count": 5,
   "metadata": {},
   "outputs": [
    {
     "name": "stdout",
     "output_type": "stream",
     "text": [
      "<Response [200]>\n"
     ]
    },
    {
     "data": {
      "text/plain": [
       "'https://twitter.com/i/web/status/1188083344724185088'"
      ]
     },
     "execution_count": 5,
     "metadata": {},
     "output_type": "execute_result"
    }
   ],
   "source": [
    "extendedurl = rq.get('https://t.co/I5HajUrJ61')\n",
    "print(extendedurl)\n",
    "extendedurl.url"
   ]
  },
  {
   "cell_type": "markdown",
   "metadata": {},
   "source": [
    "The HTTP code 200 implies that the request was successful. That is the new extendedurl points to the correct location. \n",
    "Lastly using .url will print our new extended url.\n"
   ]
  },
  {
   "cell_type": "markdown",
   "metadata": {},
   "source": [
    "Branden's idea: Create a something that will check for the 301 condition if 301 is true, replace. \n",
    "\n",
    "In order to accomplish this we need to return only the code with $response.status$_$code$"
   ]
  },
  {
   "cell_type": "code",
   "execution_count": 3,
   "metadata": {},
   "outputs": [],
   "source": [
    "def unshorten_url(url):\n",
    "    r = rq.head(url);\n",
    "    if r.status_code == 301: \n",
    "        r = rq.get(url); # Pull the full url\n",
    "    return r.url # returns the url "
   ]
  },
  {
   "cell_type": "code",
   "execution_count": 4,
   "metadata": {},
   "outputs": [
    {
     "data": {
      "text/plain": [
       "'https://twitter.com/i/web/status/1188083344724185088'"
      ]
     },
     "execution_count": 4,
     "metadata": {},
     "output_type": "execute_result"
    }
   ],
   "source": [
    "unshorten_url('https://t.co/I5HajUrJ61')"
   ]
  },
  {
   "cell_type": "markdown",
   "metadata": {},
   "source": [
    "While this works when the code is 301, but there are many codes that will indicate a \"bad\" url. A few examples are 302, 400, and 402. Further research indicate a scheme. From wiki:\n",
    "\n",
    "1xx informational response – the request was received, continuing process\n",
    "\n",
    "2xx successful – the request was successfully received, understood and accepted\n",
    "\n",
    "3xx redirection – further action needs to be taken in order to complete the request\n",
    "\n",
    "4xx client error – the request contains bad syntax or cannot be fulfilled\n",
    "\n",
    "5xx server error – the server failed to fulfill an apparently valid request\n",
    "\n",
    "Thus we should modify our code for any 300 case(possibly the others?). "
   ]
  },
  {
   "cell_type": "code",
   "execution_count": 8,
   "metadata": {},
   "outputs": [
    {
     "data": {
      "text/plain": [
       "'https://twitter.com/i/web/status/1188083344724185088'"
      ]
     },
     "execution_count": 8,
     "metadata": {},
     "output_type": "execute_result"
    }
   ],
   "source": [
    "def unshorten_url(url):\n",
    "    r = rq.head(url);\n",
    "    if int(r.status_code/100) ==  3: # int() will change any float that leads in 3 to an integer.  \n",
    "        r = rq.get(url); # Pull the full url\n",
    "    return r.url # returns the url \n",
    "\n",
    "unshorten_url('https://t.co/I5HajUrJ61')"
   ]
  },
  {
   "cell_type": "markdown",
   "metadata": {},
   "source": [
    "Our data already contains the bad urls, thus we should not have to worry about \"bandwith\". \n",
    "\n",
    "Using the defintion in Parker's code we encounter an issue: \n"
   ]
  },
  {
   "cell_type": "code",
   "execution_count": 15,
   "metadata": {},
   "outputs": [
    {
     "ename": "FileNotFoundError",
     "evalue": "[Errno 2] No such file or directory: 'bad_tweets.txt'",
     "output_type": "error",
     "traceback": [
      "\u001b[1;31m---------------------------------------------------------------------------\u001b[0m",
      "\u001b[1;31mFileNotFoundError\u001b[0m                         Traceback (most recent call last)",
      "\u001b[1;32m<ipython-input-15-43356ac1c204>\u001b[0m in \u001b[0;36m<module>\u001b[1;34m\u001b[0m\n\u001b[0;32m     10\u001b[0m \u001b[1;33m\u001b[0m\u001b[0m\n\u001b[0;32m     11\u001b[0m \u001b[1;33m\u001b[0m\u001b[0m\n\u001b[1;32m---> 12\u001b[1;33m \u001b[1;32mwith\u001b[0m \u001b[0mopen\u001b[0m\u001b[1;33m(\u001b[0m\u001b[1;34m\"bad_tweets.txt\"\u001b[0m\u001b[1;33m,\u001b[0m \u001b[1;34m\"r\"\u001b[0m\u001b[1;33m)\u001b[0m \u001b[1;32mas\u001b[0m \u001b[0mf\u001b[0m\u001b[1;33m:\u001b[0m\u001b[1;33m\u001b[0m\u001b[1;33m\u001b[0m\u001b[0m\n\u001b[0m\u001b[0;32m     13\u001b[0m     \u001b[0mids\u001b[0m \u001b[1;33m=\u001b[0m \u001b[1;33m[\u001b[0m\u001b[0mi\u001b[0m\u001b[1;33m.\u001b[0m\u001b[0mstrip\u001b[0m\u001b[1;33m(\u001b[0m\u001b[1;33m)\u001b[0m \u001b[1;32mfor\u001b[0m \u001b[0mi\u001b[0m \u001b[1;32min\u001b[0m \u001b[0mf\u001b[0m\u001b[1;33m.\u001b[0m\u001b[0mread\u001b[0m\u001b[1;33m(\u001b[0m\u001b[1;33m)\u001b[0m\u001b[1;33m.\u001b[0m\u001b[0msplit\u001b[0m\u001b[1;33m(\u001b[0m\u001b[1;34m\",\"\u001b[0m\u001b[1;33m)\u001b[0m\u001b[1;33m]\u001b[0m\u001b[1;33m\u001b[0m\u001b[1;33m\u001b[0m\u001b[0m\n\u001b[0;32m     14\u001b[0m \u001b[1;33m\u001b[0m\u001b[0m\n",
      "\u001b[1;31mFileNotFoundError\u001b[0m: [Errno 2] No such file or directory: 'bad_tweets.txt'"
     ]
    }
   ],
   "source": [
    "import pandas as pd\n",
    "import nltk\n",
    "import re\n",
    "import os\n",
    "import codecs\n",
    "from sklearn import feature_extraction\n",
    "#import mpld3\n",
    "\n",
    "df = pd.read_csv(r\"C:\\Users\\JungleBook\\Desktop\\DS Club\\OpioidTwitter-master\\data\\opioid_tweets.csv\")\n",
    "\n",
    "\n",
    "\n",
    "with open(\"bad_tweets.txt\", \"r\") as f:\n",
    "    ids = [i.strip() for i in f.read().split(\",\")] \n",
    "\n",
    "for item in df[df[\"id\"].isin(ids)].iterrows():\n",
    "    print()\n",
    "    print(\"ID: {}\".format(item[1][\"id\"]))\n",
    "    print()\n",
    "    print(unshorten_url(item[1][\"content\"]) )\n",
    "# The isssue is that item[1][\"Content] contains the text of tweet the url\"\n",
    "    print()\n",
    "    print(\"User: {}\".format(item[1][\"user_name\"]))\n",
    "    print(\"_____________________________________________________________________________________________\")\n"
   ]
  },
  {
   "cell_type": "markdown",
   "metadata": {},
   "source": [
    "While I would love to show you that our issue is with $item[1][\"content\"]$ containg a tweet, then url. I cannot open my text file in Juypter Notebooks. Any help would be apprectiated. "
   ]
  },
  {
   "cell_type": "code",
   "execution_count": null,
   "metadata": {},
   "outputs": [],
   "source": []
  },
  {
   "cell_type": "code",
   "execution_count": null,
   "metadata": {},
   "outputs": [],
   "source": []
  }
 ],
 "metadata": {
  "kernelspec": {
   "display_name": "Python 3",
   "language": "python",
   "name": "python3"
  },
  "language_info": {
   "codemirror_mode": {
    "name": "ipython",
    "version": 3
   },
   "file_extension": ".py",
   "mimetype": "text/x-python",
   "name": "python",
   "nbconvert_exporter": "python",
   "pygments_lexer": "ipython3",
   "version": "3.7.3"
  }
 },
 "nbformat": 4,
 "nbformat_minor": 2
}
